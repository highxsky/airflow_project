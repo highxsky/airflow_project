{
 "cells": [
  {
   "cell_type": "markdown",
   "id": "b9d06fcf",
   "metadata": {},
   "source": [
    "# TO DO\n",
    "\n",
    "1) extract more relevant data points\n",
    "2) parse dict data from columns (before conversion to DF? after conversion to DF? identify whats most efficient)\n",
    "3) identify latest offer published (max date)\n",
    "4) create an airflow project that runs on demand: runs the script, adds records to the DB, uploads to PostgreSQL database"
   ]
  },
  {
   "cell_type": "markdown",
   "id": "eef14d67",
   "metadata": {},
   "source": [
    "# Connection a l'API France Travail\n",
    "\n",
    "Process:\n",
    "1) Request a token for the API you want to work with\n",
    "2) Retrieve the token\n",
    "3) Use it to communicate with your target API"
   ]
  },
  {
   "cell_type": "markdown",
   "id": "94b279bb",
   "metadata": {},
   "source": [
    "# Imports"
   ]
  },
  {
   "cell_type": "code",
   "execution_count": null,
   "id": "aa2203c6",
   "metadata": {},
   "outputs": [],
   "source": [
    "import configparser\n",
    "import os\n",
    "import requests\n",
    "from datetime import datetime, timedelta\n",
    "import pandas as pd"
   ]
  },
  {
   "cell_type": "markdown",
   "id": "93e770a7",
   "metadata": {},
   "source": [
    "# Identifiers"
   ]
  },
  {
   "cell_type": "code",
   "execution_count": null,
   "id": "15908b1c",
   "metadata": {},
   "outputs": [],
   "source": [
    "# identifiers\n",
    "config = configparser.ConfigParser()\n",
    "secrets_file = os.path.join(os.getcwd(), \"secrets.ini\")\n",
    "config.read(secrets_file)\n",
    "client_id = config['ft_api']['client_id']\n",
    "client_secret = config['ft_api']['client_secret']"
   ]
  },
  {
   "cell_type": "markdown",
   "id": "8dcf54e0",
   "metadata": {},
   "source": [
    "# Getting an API access token"
   ]
  },
  {
   "cell_type": "code",
   "execution_count": null,
   "id": "278f3067",
   "metadata": {},
   "outputs": [],
   "source": [
    "# URL to get an access token\n",
    "# specify the realm at the end of the endpoint\n",
    "url = \"https://entreprise.francetravail.fr/connexion/oauth2/access_token?realm=%2Fpartenaire\"\n",
    "\n",
    "# POST request parameters\n",
    "data = {\n",
    "    \"grant_type\": \"client_credentials\",\n",
    "    \"client_id\": client_id,\n",
    "    \"client_secret\": client_secret,\n",
    "    \"scope\": \"api_offresdemploiv2 o2dsoffre\",\n",
    "}\n",
    "\n",
    "# Headers\n",
    "headers = {\n",
    "    \"Content-Type\": \"application/x-www-form-urlencoded\",\n",
    "    \"Host\": \"francetravail.io\"\n",
    "}\n",
    "\n",
    "# API request\n",
    "response = requests.post(\n",
    "    url, \n",
    "    data=data, \n",
    "    headers=headers\n",
    ")\n",
    "\n",
    "# if positive response, store token\n",
    "if response.status_code == 200:\n",
    "    access_token = response.json().get(\"access_token\")\n",
    "    print(\"Token successfully granted:\", access_token)\n",
    "else:\n",
    "    print(\"Error when retrieving the API token:\", response.text)"
   ]
  },
  {
   "cell_type": "code",
   "execution_count": null,
   "id": "3b18e223",
   "metadata": {},
   "outputs": [],
   "source": [
    "# casting dates to isoformat\n",
    "min_creation_date = (datetime.now() - timedelta(days=30)).strftime(\"%Y-%m-%dT%H:%M:%SZ\") # 30 days ago\n",
    "max_creation_date = datetime.now().strftime(\"%Y-%m-%dT%H:%M:%SZ\") # today\n",
    "\n",
    "# API endpoint\n",
    "offres_emplois_url = \"https://api.francetravail.io/partenaire/offresdemploi/v2/offres/search\"\n",
    "\n",
    "# headers\n",
    "headers = {\n",
    "    \"Accept\": \"application/json\",\n",
    "    \"Authorization\": f\"Bearer {access_token}\"\n",
    "}\n",
    "\n",
    "# parameters\n",
    "# looking for\n",
    "    # data related\n",
    "    # in two specific departments (Paris and Hauts de Seine)\n",
    "    # permanent contract (CDI)\n",
    "    # created in the past 90 days\n",
    "    # senior experience (3 is the max value = over 3 years of XP)\n",
    "params = {\n",
    "    \"motsCles\": \"data\",\n",
    "    \"departement\": \"75,92\",\n",
    "    \"typeContrat\": \"CDI\",\n",
    "    \"minCreationDate\": str(min_creation_date),\n",
    "    \"maxCreationDate\": str(max_creation_date),\n",
    "    \"experience\": \"3\",\n",
    "}\n",
    "\n",
    "# API request\n",
    "response = requests.get(\n",
    "    offres_emplois_url, \n",
    "    params=params, \n",
    "    headers=headers\n",
    ")\n",
    "\n",
    "# 200: positive response\n",
    "# 206: positive, partial response\n",
    "if response.status_code in (200, 206):\n",
    "    offres = response.json()\n",
    "    print(\"Nombre d'offres d'emploi trouvées :\", len(offres[\"resultats\"]))\n",
    "else:\n",
    "    print(\"Erreur lors de la requête :\", response.text)"
   ]
  },
  {
   "cell_type": "code",
   "execution_count": null,
   "id": "9f1b0fcb",
   "metadata": {},
   "outputs": [],
   "source": [
    "# creates a dataframe with the keys below (considered relevant)\n",
    "\n",
    "selected_keys = [\n",
    "    \"intitule\", \n",
    "    \"description\", \n",
    "    \"dateCreation\",\n",
    "    \"appellationlibelle\",\n",
    "    \"secteurActiviteLibelle\",\n",
    "    \"typeContratLibelle\",\n",
    "    \"salaire\"\n",
    "]\n",
    "\n",
    "filtered_list = [\n",
    "    {key: offre[key] for key in selected_keys if key in offre}\n",
    "    for offre in offres[\"resultats\"]\n",
    "]\n",
    "\n",
    "offres_df = pd.DataFrame(filtered_list)"
   ]
  },
  {
   "cell_type": "code",
   "execution_count": null,
   "id": "93829b80",
   "metadata": {},
   "outputs": [],
   "source": [
    "# some data processing\n",
    "offres_df[\"dateCreation\"] = pd.to_datetime(offres_df[\"dateCreation\"]).dt.date"
   ]
  },
  {
   "cell_type": "markdown",
   "id": "3d5e69fc",
   "metadata": {},
   "source": [
    "# WORK IN PROGRESS"
   ]
  },
  {
   "cell_type": "code",
   "execution_count": null,
   "id": "6a06b3c2",
   "metadata": {},
   "outputs": [],
   "source": [
    "# let's check the different keys in a job offer\n",
    "# we will analyze a single offer and retrieve all of its keys\n",
    "keys = list(offres[\"resultats\"][0].keys())\n",
    "\n",
    "for key in keys:\n",
    "    print(key)"
   ]
  }
 ],
 "metadata": {
  "kernelspec": {
   "display_name": "Python 3",
   "language": "python",
   "name": "python3"
  },
  "language_info": {
   "codemirror_mode": {
    "name": "ipython",
    "version": 3
   },
   "file_extension": ".py",
   "mimetype": "text/x-python",
   "name": "python",
   "nbconvert_exporter": "python",
   "pygments_lexer": "ipython3",
   "version": "3.13.2"
  }
 },
 "nbformat": 4,
 "nbformat_minor": 5
}
