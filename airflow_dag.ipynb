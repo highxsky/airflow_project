{
 "cells": [
  {
   "cell_type": "code",
   "execution_count": null,
   "id": "cdb218ab",
   "metadata": {},
   "outputs": [],
   "source": []
  },
  {
   "cell_type": "markdown",
   "id": "b9d06fcf",
   "metadata": {},
   "source": [
    "# TO DO\n",
    "\n",
    "1) extract more relevant data points\n",
    "\n",
    "    1.1) Loop through all offers and extract possible salary keys (avantages, etc...)\n",
    "    1.2) Identify other data points to be retrieved and same idea\n",
    "\n",
    "2) parse dict data from columns (before conversion to DF? after conversion to DF? identify whats most efficient)\n",
    "\n",
    "3) identify latest offer published (max date)\n",
    "\n",
    "    3.1) store max date as variable\n",
    "    3.2) store max date as latest offer fetched in SQL database table\n",
    "    3.3) retrieve latest offer date from SQL database table\n",
    "        if exists fetch it, if not then start date is 30 days ago\n",
    "\n",
    "4) create a data model for data storage\n",
    "\n",
    "    4.1) list target tables\n",
    "    4.2) list relationships between tables\n",
    "    4.3) list pk/fk/constraints\n",
    "    4.4) create a json file with all of these requirements\n",
    "        4.5) for things such as salary, make it dynamic so columns can be added if needed?\n",
    "    4.5) have dynamic SQL written for table creations + table updates\n",
    "\n",
    "4) create an airflow project that runs on demand: runs the script, adds records to the DB, uploads to PostgreSQL database\n",
    "\n",
    "\n",
    "# DONE\n",
    "\n"
   ]
  },
  {
   "cell_type": "markdown",
   "id": "eef14d67",
   "metadata": {},
   "source": [
    "# Connection a l'API France Travail\n",
    "\n",
    "Process:\n",
    "1) Request a token for the API you want to work with\n",
    "2) Retrieve the token\n",
    "3) Use it to communicate with your target API"
   ]
  },
  {
   "cell_type": "markdown",
   "id": "94b279bb",
   "metadata": {},
   "source": [
    "# Imports"
   ]
  },
  {
   "cell_type": "code",
   "execution_count": 9,
   "id": "aa2203c6",
   "metadata": {},
   "outputs": [],
   "source": [
    "# Import required libraries\n",
    "import os\n",
    "import requests\n",
    "from requests.exceptions import HTTPError\n",
    "from datetime import datetime, timedelta\n",
    "import pandas as pd\n",
    "import sqlite3"
   ]
  },
  {
   "cell_type": "markdown",
   "id": "93e770a7",
   "metadata": {},
   "source": [
    "# Identifiers"
   ]
  },
  {
   "cell_type": "code",
   "execution_count": 10,
   "id": "78d9e812",
   "metadata": {},
   "outputs": [],
   "source": [
    "# reading env variables\n",
    "client_id = os.getenv(\"FT_API_CLIENT_ID\")\n",
    "client_secret = os.getenv(\"FT_API_CLIENT_SECRET\")"
   ]
  },
  {
   "cell_type": "markdown",
   "id": "8dcf54e0",
   "metadata": {},
   "source": [
    "# Getting an API access token"
   ]
  },
  {
   "cell_type": "code",
   "execution_count": 11,
   "id": "278f3067",
   "metadata": {},
   "outputs": [
    {
     "name": "stdout",
     "output_type": "stream",
     "text": [
      "Token successfully granted: _IBYBo-nOFhLhr2lxUpCDyqyjd0\n"
     ]
    }
   ],
   "source": [
    "# URL to get an access token\n",
    "# specify the realm at the end of the endpoint\n",
    "url = \"https://entreprise.francetravail.fr/connexion/oauth2/access_token?realm=%2Fpartenaire\"\n",
    "\n",
    "# POST request parameters\n",
    "data = {\n",
    "    \"grant_type\": \"client_credentials\",\n",
    "    \"client_id\": client_id,\n",
    "    \"client_secret\": client_secret,\n",
    "    \"scope\": \"api_offresdemploiv2 o2dsoffre\",\n",
    "}\n",
    "\n",
    "# Headers\n",
    "headers = {\n",
    "    \"Content-Type\": \"application/x-www-form-urlencoded\",\n",
    "    \"Host\": \"francetravail.io\"\n",
    "}\n",
    "\n",
    "# API request\n",
    "response = requests.post(\n",
    "    url, \n",
    "    data=data, \n",
    "    headers=headers\n",
    ")\n",
    "\n",
    "# if positive response, store token\n",
    "if response.status_code == 200:\n",
    "    access_token = response.json().get(\"access_token\")\n",
    "    print(\"Token successfully granted:\", access_token)\n",
    "else:\n",
    "    print(\"Error when retrieving the API token:\", response.text)"
   ]
  },
  {
   "cell_type": "markdown",
   "id": "4f1b40ee",
   "metadata": {},
   "source": [
    "# Connecting to a SQLite3 database"
   ]
  },
  {
   "cell_type": "code",
   "execution_count": 12,
   "id": "662ac4e5",
   "metadata": {},
   "outputs": [],
   "source": [
    "conn = sqlite3.connect('airflow.db')\n",
    "cursor = conn.cursor()"
   ]
  },
  {
   "cell_type": "code",
   "execution_count": null,
   "id": "6d44902b",
   "metadata": {},
   "outputs": [],
   "source": []
  },
  {
   "cell_type": "code",
   "execution_count": 13,
   "id": "ce5930dc",
   "metadata": {},
   "outputs": [],
   "source": [
    "# casting dates to isoformat\n",
    "min_creation_date = (datetime.now() - timedelta(days=30)).strftime(\"%Y-%m-%dT%H:%M:%SZ\") # 30 days ago\n",
    "max_creation_date = datetime.now().strftime(\"%Y-%m-%dT%H:%M:%SZ\") # today\n",
    "\n",
    "# API endpoint\n",
    "offres_emplois_url = \"https://api.francetravail.io/partenaire/offresdemploi/v2/offres/search\"\n",
    "\n",
    "# headers\n",
    "headers = {\n",
    "    \"Accept\": \"application/json\",\n",
    "    \"Authorization\": f\"Bearer {access_token}\"\n",
    "}\n",
    "\n",
    "# parameters\n",
    "# looking for\n",
    "    # data related\n",
    "    # in two specific departments (Paris and Hauts de Seine)\n",
    "    # permanent contract (CDI)\n",
    "    # created in the past 90 days\n",
    "    # senior experience (3 is the max value = over 3 years of XP)\n",
    "params = {\n",
    "    \"motsCles\": \"data\",\n",
    "    \"departement\": \"75,92\",\n",
    "    \"typeContrat\": \"CDI\",\n",
    "    \"minCreationDate\": str(min_creation_date),\n",
    "    \"maxCreationDate\": str(max_creation_date),\n",
    "    \"experience\": \"3\",\n",
    "}\n",
    "\n",
    "try:\n",
    "    response = requests.get(\n",
    "        offres_emplois_url, \n",
    "        params=params, \n",
    "        headers=headers\n",
    "    )\n",
    "    response.raise_for_status()\n",
    "except HTTPError as http_err:\n",
    "    print(f\"HTTP error occurred: {http_err}\")\n",
    "except Exception as err:\n",
    "    print(f\"Other error occurred: {err}\")\n",
    "\n",
    "offres = response.json()"
   ]
  },
  {
   "cell_type": "code",
   "execution_count": 14,
   "id": "9f1b0fcb",
   "metadata": {},
   "outputs": [],
   "source": [
    "# creates a dataframe with the keys below (considered relevant)\n",
    "\n",
    "selected_keys = [\n",
    "    \"intitule\", \n",
    "    \"description\", \n",
    "    \"dateCreation\",\n",
    "    \"appellationlibelle\",\n",
    "    \"secteurActiviteLibelle\",\n",
    "    \"typeContratLibelle\",\n",
    "    \"salaire\"\n",
    "]\n",
    "\n",
    "filtered_list = [\n",
    "    {key: offre[key] for key in selected_keys if key in offre}\n",
    "    for offre in offres[\"resultats\"]\n",
    "]\n",
    "\n",
    "offres_df = pd.DataFrame(filtered_list)"
   ]
  },
  {
   "cell_type": "code",
   "execution_count": 15,
   "id": "93829b80",
   "metadata": {},
   "outputs": [],
   "source": [
    "# some data processing\n",
    "offres_df[\"dateCreation\"] = pd.to_datetime(offres_df[\"dateCreation\"]).dt.date\n",
    "\n",
    "# get the max creation date for offers\n",
    "max_date = offres_df[\"dateCreation\"].max()"
   ]
  },
  {
   "cell_type": "code",
   "execution_count": 20,
   "id": "d6508d4c",
   "metadata": {},
   "outputs": [
    {
     "data": {
      "text/plain": [
       "Index(['intitule', 'description', 'dateCreation', 'appellationlibelle',\n",
       "       'secteurActiviteLibelle', 'typeContratLibelle', 'salaire'],\n",
       "      dtype='object')"
      ]
     },
     "execution_count": 20,
     "metadata": {},
     "output_type": "execute_result"
    }
   ],
   "source": [
    "offres_df.columns"
   ]
  },
  {
   "cell_type": "code",
   "execution_count": null,
   "id": "53ab9135",
   "metadata": {},
   "outputs": [],
   "source": [
    "# filters on row 1, column salaire value and shows the data\n",
    "offres_df.iloc[3, 6]"
   ]
  },
  {
   "cell_type": "code",
   "execution_count": null,
   "id": "a1537ed8",
   "metadata": {
    "vscode": {
     "languageId": "markdown"
    }
   },
   "outputs": [],
   "source": [
    "# filters on row 1, column salaire value and shows the data\n",
    "\n",
    "\n",
    "\n",
    "\n",
    "offres_df.iloc[1, \"salaire\"]"
   ]
  },
  {
   "cell_type": "code",
   "execution_count": null,
   "id": "ab9613fe",
   "metadata": {},
   "outputs": [],
   "source": [
    "# parses the data in salaire column that is a json/dict structure\n"
   ]
  },
  {
   "cell_type": "markdown",
   "id": "3d5e69fc",
   "metadata": {},
   "source": [
    "# WORK IN PROGRESS"
   ]
  },
  {
   "cell_type": "code",
   "execution_count": null,
   "id": "6a06b3c2",
   "metadata": {},
   "outputs": [],
   "source": [
    "# let's check the different keys in a job offer\n",
    "# we will analyze a single offer and retrieve all of its keys\n",
    "keys = list(offres[\"resultats\"][0].keys())\n",
    "\n",
    "for key in keys:\n",
    "    print(key)"
   ]
  }
 ],
 "metadata": {
  "kernelspec": {
   "display_name": "airflow-env",
   "language": "python",
   "name": "airflow-env"
  },
  "language_info": {
   "codemirror_mode": {
    "name": "ipython",
    "version": 3
   },
   "file_extension": ".py",
   "mimetype": "text/x-python",
   "name": "python",
   "nbconvert_exporter": "python",
   "pygments_lexer": "ipython3",
   "version": "3.11.9"
  }
 },
 "nbformat": 4,
 "nbformat_minor": 5
}
