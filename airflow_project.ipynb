{
 "cells": [
  {
   "cell_type": "markdown",
   "id": "eef14d67",
   "metadata": {},
   "source": [
    "# Connection a l'API France Travail\n",
    "\n",
    "Process:\n",
    "1) Request a token for the API you want to work with\n",
    "2) Retrieve the token\n",
    "3) Use it to communicate with your target API"
   ]
  },
  {
   "cell_type": "markdown",
   "id": "94b279bb",
   "metadata": {},
   "source": [
    "# Imports"
   ]
  },
  {
   "cell_type": "code",
   "execution_count": null,
   "id": "aa2203c6",
   "metadata": {},
   "outputs": [],
   "source": [
    "import configparser\n",
    "import os\n",
    "import requests\n",
    "from datetime import datetime, timedelta"
   ]
  },
  {
   "cell_type": "markdown",
   "id": "93e770a7",
   "metadata": {},
   "source": [
    "# Identifiers"
   ]
  },
  {
   "cell_type": "code",
   "execution_count": null,
   "id": "15908b1c",
   "metadata": {},
   "outputs": [],
   "source": [
    "# identifiers\n",
    "config = configparser.ConfigParser()\n",
    "secrets_file = os.path.join(os.getcwd(), \"secrets.ini\")\n",
    "config.read(secrets_file)\n",
    "client_id = config['ft_api']['client_id']\n",
    "client_secret = config['ft_api']['client_secret']"
   ]
  },
  {
   "cell_type": "markdown",
   "id": "8dcf54e0",
   "metadata": {},
   "source": [
    "# Getting an API access token"
   ]
  },
  {
   "cell_type": "code",
   "execution_count": 5,
   "id": "278f3067",
   "metadata": {},
   "outputs": [
    {
     "name": "stdout",
     "output_type": "stream",
     "text": [
      "Token successfully granted: R07amBpgnhsXcDkCRUMOdUym-HI\n"
     ]
    }
   ],
   "source": [
    "# URL to get an access token\n",
    "# specify the realm at the end of the endpoint\n",
    "url = \"https://entreprise.francetravail.fr/connexion/oauth2/access_token?realm=%2Fpartenaire\"\n",
    "\n",
    "# POST request parameters\n",
    "data = {\n",
    "    \"grant_type\": \"client_credentials\",\n",
    "    \"client_id\": client_id,\n",
    "    \"client_secret\": client_secret,\n",
    "    \"scope\": \"api_offresdemploiv2 o2dsoffre\",\n",
    "}\n",
    "\n",
    "# Headers\n",
    "headers = {\n",
    "    \"Content-Type\": \"application/x-www-form-urlencoded\",\n",
    "    \"Host\": \"francetravail.io\"\n",
    "}\n",
    "\n",
    "# API request\n",
    "response = requests.post(\n",
    "    url, \n",
    "    data=data, \n",
    "    headers=headers\n",
    ")\n",
    "\n",
    "# if positive response, store token\n",
    "if response.status_code == 200:\n",
    "    access_token = response.json().get(\"access_token\")\n",
    "    print(\"Token successfully granted:\", access_token)\n",
    "else:\n",
    "    print(\"Error when retrieving the API token:\", response.text)"
   ]
  },
  {
   "cell_type": "code",
   "execution_count": null,
   "id": "173f348d",
   "metadata": {},
   "outputs": [],
   "source": []
  },
  {
   "cell_type": "code",
   "execution_count": null,
   "id": "3b18e223",
   "metadata": {},
   "outputs": [],
   "source": [
    "# casting dates to isoformat\n",
    "min_creation_date = (datetime.now() - timedelta(days=30)).strftime(\"%Y-%m-%dT%H:%M:%SZ\") # 30 days ago\n",
    "max_creation_date = datetime.now().strftime(\"%Y-%m-%dT%H:%M:%SZ\") # today\n",
    "\n",
    "# API endpoint\n",
    "offres_emplois_url = \"https://api.francetravail.io/partenaire/offresdemploi/v2/offres/search\"\n",
    "\n",
    "# headers\n",
    "headers = {\n",
    "    \"Accept\": \"application/json\",\n",
    "    \"Authorization\": f\"Bearer {access_token}\"\n",
    "}\n",
    "\n",
    "# parameters\n",
    "# looking for\n",
    "    # data related\n",
    "    # in two specific departments (Paris and Hauts de Seine)\n",
    "    # permanent contract (CDI)\n",
    "    # created in the past 90 days\n",
    "    # senior experience (3 is the max value = over 3 years of XP)\n",
    "params = {\n",
    "    \"motsCles\": \"data\",\n",
    "    \"departement\": \"75,92\",\n",
    "    \"typeContrat\": \"CDI\",\n",
    "    \"minCreationDate\": str(min_creation_date),\n",
    "    \"maxCreationDate\": str(max_creation_date),\n",
    "    \"experience\": \"3\",\n",
    "}\n",
    "\n",
    "# API request\n",
    "response = requests.get(\n",
    "    offres_emplois_url, \n",
    "    params=params, \n",
    "    headers=headers\n",
    ")\n",
    "\n",
    "# 200: positive response\n",
    "# 206: positive, partial response\n",
    "if response.status_code in (200, 206):\n",
    "    offres = response.json()\n",
    "    print(\"Nombre d'offres d'emploi trouvées :\", len(offres[\"resultats\"]))\n",
    "else:\n",
    "    print(\"Erreur lors de la requête :\", response.text)"
   ]
  },
  {
   "cell_type": "markdown",
   "id": "3d5e69fc",
   "metadata": {},
   "source": [
    "# WORK IN PROGRESS"
   ]
  },
  {
   "cell_type": "code",
   "execution_count": null,
   "id": "6a06b3c2",
   "metadata": {},
   "outputs": [],
   "source": [
    "# let's check the different keys in a job offer\n",
    "# we will analyze a single offer and retrieve all of its keys\n",
    "keys = list(offres[\"resultats\"][0].keys())\n",
    "\n",
    "for key in keys:\n",
    "    print(key)"
   ]
  },
  {
   "cell_type": "code",
   "execution_count": null,
   "id": "8db693fd",
   "metadata": {},
   "outputs": [],
   "source": [
    "for offre in offres[\"resultats\"]:\n",
    "    print(offre)"
   ]
  },
  {
   "cell_type": "code",
   "execution_count": null,
   "id": "35d46679",
   "metadata": {},
   "outputs": [],
   "source": [
    "response"
   ]
  }
 ],
 "metadata": {
  "kernelspec": {
   "display_name": "Python 3",
   "language": "python",
   "name": "python3"
  },
  "language_info": {
   "codemirror_mode": {
    "name": "ipython",
    "version": 3
   },
   "file_extension": ".py",
   "mimetype": "text/x-python",
   "name": "python",
   "nbconvert_exporter": "python",
   "pygments_lexer": "ipython3",
   "version": "3.13.2"
  }
 },
 "nbformat": 4,
 "nbformat_minor": 5
}
